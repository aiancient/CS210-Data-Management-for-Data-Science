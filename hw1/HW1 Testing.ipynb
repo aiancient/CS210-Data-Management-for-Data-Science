{
 "cells": [
  {
   "cell_type": "code",
   "execution_count": 156,
   "id": "341784aa",
   "metadata": {},
   "outputs": [
    {
     "name": "stdout",
     "output_type": "stream",
     "text": [
      "{'Toy Story (1995)': 3.8333333333333335, 'Tom and Huck (1995)': 2.8333333333333335}\n"
     ]
    }
   ],
   "source": [
    "import math\n",
    "from collections import defaultdict\n",
    "from collections import Counter\n",
    "\n",
    "# You may not add any other imports\n",
    "\n",
    "# For each function, replace \"pass\" with your code\n",
    "\n",
    "# --- TASK 1: READING DATA ---\n",
    "\n",
    "# 1.1\n",
    "def read_ratings_data(f):\n",
    "    movieRating = {}\n",
    "    for line in open(f):\n",
    "        movie, rating, userID = line.split(\"|\")\n",
    "        if movie not in movieRating:\n",
    "            movieRating[movie.strip()] = []\n",
    "        ratingList = movieRating.get(movie)\n",
    "        ratingList.append(float(rating))\n",
    "    return movieRating\n",
    "\n",
    "# 1.2\n",
    "def read_movie_genre(f):\n",
    "    movieGenre = {}\n",
    "    for line in open(f):\n",
    "        genre, movieID, movie = line.split(\"|\")\n",
    "        if movie not in movieGenre:\n",
    "            movieGenre[movie.strip()] = genre.strip()\n",
    "    return movieGenre\n",
    "\n",
    "# --- TASK 2: PROCESSING DATA ---\n",
    "\n",
    "# 2.1\n",
    "def create_genre_dict(d):\n",
    "    genreDict = {}\n",
    "    for movieKey in d.keys(): \n",
    "        if d[movieKey] not in genreDict: \n",
    "            genreDict[d[movieKey]] = []\n",
    "        genreMovieList = genreDict.get(d[movieKey])\n",
    "        genreMovieList.append(movieKey)\n",
    "    return genreDict\n",
    "\n",
    "# 2.2\n",
    "def calculate_average_rating(d):\n",
    "    averageRating = {}\n",
    "    for movie in d.keys():\n",
    "        total = 0\n",
    "        count = 0\n",
    "        for rating in d[movie]:\n",
    "            total += rating\n",
    "            count += 1\n",
    "        averageRating[movie] = total/count\n",
    "    return averageRating\n",
    "\n",
    "# --- TASK 3: RECOMMENDATION ---\n",
    "\n",
    "# 3.1\n",
    "def get_popular_movies(d, n=10):\n",
    "    popMoviesLH = {}\n",
    "    popMoviesLH = dict(sorted(d.items(),\n",
    "                      key= lambda movie: movie[1]))\n",
    "    popMoviesHL = dict(reversed(list(popMoviesLH.items())))\n",
    "    return dict(list(popMoviesHL.items())[0: n])\n",
    "\n",
    "# 3.2\n",
    "def filter_movies(d, thres_rating=3):\n",
    "    filteredMovies = {}\n",
    "    for k in d:\n",
    "        if d[k]>=thres_rating: \n",
    "            filteredMovies[k] = d[k]\n",
    "    return filteredMovies\n",
    "\n",
    "# 3.3\n",
    "def get_popular_in_genre(genre, genre_to_movies, movie_to_average_rating, n=50):\n",
    "    genreMovies = []\n",
    "    for k in genre_to_movies:\n",
    "        if k.lower()==genre.lower(): \n",
    "            genreMovies.append(genre_to_movies[k])\n",
    "    \n",
    "    genreMoviesWAverages = {} \n",
    "    for k in movie_to_average_rating:\n",
    "        if k in genreMovies[0]: \n",
    "            genreMoviesWAverages[k] = movie_to_average_rating[k]\n",
    "    \n",
    "    topNMoviesOfGenreLH = {}\n",
    "    topNMoviesOfGenreLH = dict(sorted(genreMoviesWAverages.items(),\n",
    "                      key= lambda movie: movie[1]))\n",
    "    topNMoviesOfGenreHL = dict(reversed(list(topNMoviesOfGenreLH.items())))\n",
    "    return dict(list(topNMoviesOfGenreHL.items())[0: n])\n",
    "    \n",
    "\n",
    "# 3.4\n",
    "def get_genre_rating(genre, genre_to_movies, movie_to_average_rating):\n",
    "    genreMovies = []\n",
    "    for k in genre_to_movies:\n",
    "        if k.lower()==genre.lower(): \n",
    "            genreMovies.append(genre_to_movies[k])\n",
    "    \n",
    "    genreMoviesWAverages = {} \n",
    "    for k in movie_to_average_rating:\n",
    "        if k in genreMovies[0]: \n",
    "            genreMoviesWAverages[k] = movie_to_average_rating[k]\n",
    "    \n",
    "    total = 0\n",
    "    for k in genreMoviesWAverages:\n",
    "        total += genreMoviesWAverages[k]\n",
    "    \n",
    "    return total/len(genreMoviesWAverages)\n",
    "\n",
    "# 3.5\n",
    "def genre_popularity(genre_to_movies, movie_to_average_rating, n=5):\n",
    "    genresWPop = {}\n",
    "    for k in genre_to_movies:\n",
    "        if k not in genresWPop.keys():\n",
    "            genreRating = get_genre_rating(k, genre_to_movies,movie_to_average_rating)\n",
    "            genresWPop[k] = genreRating\n",
    "            \n",
    "    genrePopLH = {}\n",
    "    genrePopLH = dict(sorted(genresWPop.items(),\n",
    "                      key= lambda movie: movie[1]))\n",
    "    genrePopHL = dict(reversed(list(genrePopLH.items())))\n",
    "    return dict(list(genrePopHL.items())[0: n])\n",
    "\n",
    "# --- TASK 4: USER FOCUSED ---\n",
    "\n",
    "# 4.1\n",
    "def read_user_ratings(f):\n",
    "    userMovieRatings = {}\n",
    "    for line in open(f):\n",
    "        movie, rating, userID = line.split(\"|\")\n",
    "        if userID.strip() not in userMovieRatings:\n",
    "            userMovieRatings[userID.strip()] = []\n",
    "        ratingList = userMovieRatings.get(userID.strip())\n",
    "        \n",
    "        ratingList.append([movie.strip(),float(rating)])\n",
    "    return userMovieRatings\n",
    "\n",
    "# 4.2\n",
    "def get_user_genre(user_id, user_to_movies, movie_to_genre):\n",
    "    userGenreWMovieRating = {}\n",
    "    userMovies = []\n",
    "    for k in user_to_movies:\n",
    "        if int(k)==user_id:\n",
    "            userMovies = user_to_movies[k]\n",
    "    \n",
    "    for mR in userMovies:\n",
    "        movieGenre = movie_to_genre[mR[0]]\n",
    "        if movieGenre not in userGenreWMovieRating:\n",
    "            userGenreWMovieRating[movieGenre] = []\n",
    "        genreMoviesList = userGenreWMovieRating.get(movieGenre)\n",
    "        genreMoviesList.append(mR)\n",
    "    \n",
    "    genreWRating = {}\n",
    "    for k in userGenreWMovieRating:\n",
    "        genreMoviesList = userGenreWMovieRating.get(k)\n",
    "        total = 0\n",
    "        count = 0\n",
    "        for movie in genreMoviesList:\n",
    "            total += movie[1]\n",
    "            count += 1\n",
    "        genreAverage = total / count\n",
    "        genreWRating[k] = genreAverage\n",
    "    \n",
    "    genreAnswer = ''\n",
    "    rating = 0\n",
    "    for k in genreWRating:\n",
    "        if genreWRating[k]>=rating:\n",
    "            genreAnswer = k\n",
    "            rating = genreWRating[k]\n",
    "   \n",
    "    return genreAnswer\n",
    "    \n",
    "\n",
    "# 4.3\n",
    "def recommend_movies(user_id, user_to_movies, movie_to_genre, movie_to_average_rating):\n",
    "    userGenre = get_user_genre(user_id,user_to_movies,movie_to_genre)\n",
    "    popInGenreMovies = get_popular_in_genre(userGenre, create_genre_dict(movie_to_genre), movie_to_average_rating, n=50)\n",
    "    \n",
    "    #print(user_to_movies)\n",
    "    moviesWatched = user_to_movies.get(str(user_id))\n",
    "    moviesWatchedDic = {}\n",
    "    for movie in moviesWatched: \n",
    "        moviesWatchedDic[movie[0]] = movie[1]\n",
    "    \n",
    "    topRec = {}\n",
    "    count = 0\n",
    "    for k in popInGenreMovies: \n",
    "        if k not in moviesWatchedDic.keys():\n",
    "            topRec[k] = popInGenreMovies[k]\n",
    "            count += 1\n",
    "        if count==3:\n",
    "            break \n",
    "    return topRec\n",
    "# --- main function for your testing ---\n",
    "def main():\n",
    "    movieRatings = read_ratings_data(\"movieRatingSample.txt\")\n",
    "    movieGenres = read_movie_genre(\"genreMovieSample.txt\")\n",
    "    \n",
    "    genreDictionary = create_genre_dict(movieGenres)\n",
    "    aveRating = calculate_average_rating(movieRatings)\n",
    "    topNMovies = get_popular_movies(aveRating,10)\n",
    "    filterMovieBasedOnRating = filter_movies(aveRating, thres_rating=3)\n",
    "    topNOfGenre = get_popular_in_genre('adventure', genreDictionary, aveRating, n=5)\n",
    "    genrePop = get_genre_rating('adventure', genreDictionary, aveRating)\n",
    "    topNBasedOnGenre = genre_popularity(genreDictionary, aveRating,5)\n",
    "    moviesRatedByUser = read_user_ratings(\"movieRatingSample.txt\")\n",
    "    userTopGenre = get_user_genre(11,moviesRatedByUser,movieGenres)\n",
    "    userRec = recommend_movies(8,moviesRatedByUser,movieGenres,aveRating)\n",
    "\n",
    "    ans.append((getMonthNum(arrayOfWords[0]).join('/').join(arrayOfWords[1]),(int(arrayOfWords[2]))))\n",
    "main()\n"
   ]
  },
  {
   "cell_type": "code",
   "execution_count": 25,
   "id": "29642db0",
   "metadata": {},
   "outputs": [
    {
     "name": "stdout",
     "output_type": "stream",
     "text": [
      "[('03/15', '46'), ('01/2', '32'), ('09/09', '79'), ('04/5', '57')]\n"
     ]
    }
   ],
   "source": [
    "\n",
    "def read_ratings_data(f,low,upper):\n",
    "    ans = []\n",
    "    for line in open(f):\n",
    "        arrayOfWords = line.replace(':',' ').split()\n",
    "        if(low <= int(arrayOfWords[2]) <= upper): \n",
    "            monthNum = getMonthNum(arrayOfWords[0])\n",
    "            firstTuple = monthNum + \"/\" + arrayOfWords[1]\n",
    "            ans.append((firstTuple,arrayOfWords[2]))\n",
    "    return ans\n",
    "        \n",
    "\n",
    "def getMonthNum(month):\n",
    "    if(month.lower()=='jan'): return '01'\n",
    "    if(month.lower()=='feb'): return '02'\n",
    "    if(month.lower()=='mar'): return '03'\n",
    "    if(month.lower()=='apr'): return '04'\n",
    "    if(month.lower()=='may'): return '05'\n",
    "    if(month.lower()=='jun'): return '06'\n",
    "    if(month.lower()=='jul'): return '07'\n",
    "    if(month.lower()=='aug'): return '08'\n",
    "    if(month.lower()=='sep'): return '09'\n",
    "    if(month.lower()=='oct'): return '10'\n",
    "    if(month.lower()=='nov'): return '11'\n",
    "    if(month.lower()=='dec'): return '12'\n",
    "    \n",
    "def main():\n",
    "    print(read_ratings_data(\"prob1txt.txt\",30,80))\n",
    "    \n",
    "main()\n"
   ]
  },
  {
   "cell_type": "code",
   "execution_count": 42,
   "id": "3034a6b7",
   "metadata": {},
   "outputs": [
    {
     "name": "stdout",
     "output_type": "stream",
     "text": [
      "[('this', 1), ('absolutely', 1), ('amazing', 1), ('crazy', 1), ('movie', 1), ('what', 1), ('funniest', 1), ('movie', 1), ('this', 1), ('year', 1)]\n"
     ]
    }
   ],
   "source": [
    "import string \n",
    "from collections import Counter\n",
    "def wordCount(f):\n",
    "    ans = []\n",
    "    for line in open(f):\n",
    "        changedLineWOPun = line.translate(str.maketrans('', '', string.punctuation))\n",
    "        arrayWWords = changedLineWOPun.split()\n",
    "        word_counts = Counter(arrayWWords)\n",
    "        for word in arrayWWords:\n",
    "            if(len(word)>=4):\n",
    "                ans.append((word,word_counts[word]))\n",
    "    return ans\n",
    "        \n",
    "\n",
    "    \n",
    "    \n",
    "def main():\n",
    "    print(wordCount(\"prob2.txt\"))\n",
    "    \n",
    "main()"
   ]
  },
  {
   "cell_type": "code",
   "execution_count": 46,
   "id": "0dc686f5",
   "metadata": {},
   "outputs": [
    {
     "name": "stdout",
     "output_type": "stream",
     "text": [
      "[0, 4, 8, 12, 16, 20, 24, 28, 32, 36, 40, 44, 48, 52, 56, 60, 64, 68, 72, 76, 80, 84, 88, 92, 96, 100]\n"
     ]
    }
   ],
   "source": [
    "fours = [x for x in range(101) if x % 4 == 0]\n",
    "print(fours)"
   ]
  },
  {
   "cell_type": "code",
   "execution_count": 49,
   "id": "9e85d736",
   "metadata": {},
   "outputs": [
    {
     "name": "stdout",
     "output_type": "stream",
     "text": [
      "['abc']\n"
     ]
    }
   ],
   "source": [
    "city_temp = [('sdf',45),('abc',88)]\n",
    "ans = [city for (city,temp) in city_temp if temp>70]\n",
    "print(ans)"
   ]
  },
  {
   "cell_type": "code",
   "execution_count": 54,
   "id": "5a0c3338",
   "metadata": {},
   "outputs": [
    {
     "name": "stdout",
     "output_type": "stream",
     "text": [
      "[(1, 2), (1, 5), (1, 8), (2, 1), (2, 4), (2, 7), (2, 10), (3, 3), (3, 6), (3, 9), (4, 2), (4, 5), (4, 8), (5, 1), (5, 4), (5, 7), (5, 10), (6, 3), (6, 6), (6, 9), (7, 2), (7, 5), (7, 8), (8, 1), (8, 4), (8, 7), (8, 10), (9, 3), (9, 6), (9, 9), (10, 2), (10, 5), (10, 8)]\n"
     ]
    }
   ],
   "source": [
    "ans = [(x,y) for x in range (1,11) for y in range (1,11) if (x+y)%3==0]\n",
    "print(ans)"
   ]
  },
  {
   "cell_type": "code",
   "execution_count": 60,
   "id": "534a29e3",
   "metadata": {},
   "outputs": [
    {
     "ename": "SyntaxError",
     "evalue": "invalid syntax (513968647.py, line 3)",
     "output_type": "error",
     "traceback": [
      "\u001b[0;36m  Input \u001b[0;32mIn [60]\u001b[0;36m\u001b[0m\n\u001b[0;31m    ans = [for f in first and\u001b[0m\n\u001b[0m           ^\u001b[0m\n\u001b[0;31mSyntaxError\u001b[0m\u001b[0;31m:\u001b[0m invalid syntax\n"
     ]
    }
   ],
   "source": [
    "first = ['freshman','sophomore','junior','senior']\n",
    "second = ['res','com']\n",
    "ans = [for f in first and  \n",
    "           for s in second ((f[0]),(s[0]))]\n",
    "print(ans)"
   ]
  },
  {
   "cell_type": "code",
   "execution_count": 13,
   "id": "bde9c491",
   "metadata": {},
   "outputs": [
    {
     "name": "stdout",
     "output_type": "stream",
     "text": [
      "None\n"
     ]
    }
   ],
   "source": [
    "import re\n",
    "variableName = 'radar'\n",
    "#res = re.match('[\\s]*([\\s]*[\\S][\\s]*)([\\s]*[\\S][\\s]*)[\\s]*[\\S][\\s]*\\2[\\s]*\\1[\\s]*', variableName)  \n",
    "res = re.match('\\([a-z]\\)\\([a-z]\\)[a-z]\\2\\1', variableName)    \n",
    "print(res)"
   ]
  },
  {
   "cell_type": "code",
   "execution_count": 49,
   "id": "aba0f0ae",
   "metadata": {},
   "outputs": [
    {
     "name": "stdout",
     "output_type": "stream",
     "text": [
      "[63, 87]\n"
     ]
    }
   ],
   "source": [
    "import numpy as np\n",
    "nparr = np.array([54,36,63,87])\n",
    "count = 0\n",
    "average = 0\n",
    "total = 0\n",
    "ans = []\n",
    "\n",
    "for x in nparr:\n",
    "    count+=1\n",
    "    total+=x\n",
    "\n",
    "average = total/count\n",
    "\n",
    "for x in nparr: \n",
    "    if(x>=average):\n",
    "        ans.append(x)\n",
    "            \n",
    "print(ans)"
   ]
  },
  {
   "cell_type": "code",
   "execution_count": 31,
   "id": "609c428e",
   "metadata": {},
   "outputs": [
    {
     "name": "stdout",
     "output_type": "stream",
     "text": [
      "None\n"
     ]
    }
   ],
   "source": [
    "import re \n",
    "test_str='18.0   8.   307.0      130.0      3504.      12.0   70.  1.\t\"chevrolet chevelle malibu\"'\n",
    "\n",
    "car_reg = re.compile(r\"\"\"\n",
    "                \\s*                 \n",
    "                (?P<name>\".*\"),    \n",
    "                (d{5}),    \n",
    "                .*(?P<mpg>\\d{1,2}\\.\\d{2})          \n",
    "            \"\"\", re.VERBOSE)\n",
    "res = car_reg.match('\"Girl,Interrupted\",1994,$11.99')\n",
    "print(res)\n"
   ]
  },
  {
   "cell_type": "code",
   "execution_count": 32,
   "id": "39278e50",
   "metadata": {},
   "outputs": [
    {
     "ename": "SyntaxError",
     "evalue": "invalid syntax (1168803514.py, line 1)",
     "output_type": "error",
     "traceback": [
      "\u001b[0;36m  Input \u001b[0;32mIn [32]\u001b[0;36m\u001b[0m\n\u001b[0;31m    ^\\s*(\\\"[^\\\"]*\\\"),(19[0-9]{2}|20[01][0-9]|20[2][01]),(\\$[0-9]{1,2}\\.[0-9]{2})\\s*$\u001b[0m\n\u001b[0m    ^\u001b[0m\n\u001b[0;31mSyntaxError\u001b[0m\u001b[0;31m:\u001b[0m invalid syntax\n"
     ]
    }
   ],
   "source": [
    "^\\s*(\\\"[^\\\"]*\\\"),(19[0-9]{2}|20[01][0-9]|20[2][01]),(\\$[0-9]{1,2}\\.[0-9]{2})\\s*$\n",
    "     "
   ]
  },
  {
   "cell_type": "code",
   "execution_count": 50,
   "id": "a904cc7d",
   "metadata": {},
   "outputs": [
    {
     "name": "stdout",
     "output_type": "stream",
     "text": [
      "a1b1a is a palindrome\n",
      " a 1b 1a is a palindrome\n",
      "#a?a #  is a palindrome\n",
      "deed  is not a palindrome\n",
      "a1 b1 a is a palindrome\n"
     ]
    }
   ],
   "source": [
    "import re\n",
    "variableName = 'rexer'\n",
    "RegEx = r\"[\\s]*([\\s]*[\\S][\\s]*)([\\s]*[\\S][\\s]*)[\\s]*[\\S][\\s]*\\2[\\s]*\\1[\\s]*\"\n",
    "\n",
    "strings = ['a1b1a', ' a 1b 1a', '#a?a # ', 'deed ', 'a1 b1 a']\n",
    "\n",
    "for string in strings:\n",
    "    if(re.search(RegEx, string)):\n",
    "        print(f'{string} is a palindrome')\n",
    "    else:\n",
    "        print(f'{string} is not a palindrome')\t"
   ]
  },
  {
   "cell_type": "code",
   "execution_count": null,
   "id": "b0a5869d",
   "metadata": {},
   "outputs": [],
   "source": [
    "'\\s*(\\\"[^\\\"]*\\\"),(d{4}),(\\$d{1,2}\\.\\d{2})'"
   ]
  }
 ],
 "metadata": {
  "kernelspec": {
   "display_name": "Python 3 (ipykernel)",
   "language": "python",
   "name": "python3"
  },
  "language_info": {
   "codemirror_mode": {
    "name": "ipython",
    "version": 3
   },
   "file_extension": ".py",
   "mimetype": "text/x-python",
   "name": "python",
   "nbconvert_exporter": "python",
   "pygments_lexer": "ipython3",
   "version": "3.9.12"
  }
 },
 "nbformat": 4,
 "nbformat_minor": 5
}
